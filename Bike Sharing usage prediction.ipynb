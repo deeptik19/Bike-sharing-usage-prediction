{
  "nbformat": 4,
  "nbformat_minor": 0,
  "metadata": {
    "colab": {
      "name": "Assignment1_Q3.ipynb",
      "version": "0.3.2",
      "provenance": [],
      "collapsed_sections": []
    },
    "kernelspec": {
      "name": "python3",
      "display_name": "Python 3"
    }
  },
  "cells": [
    {
      "cell_type": "markdown",
      "metadata": {
        "id": "DvHq6_TJcpF_",
        "colab_type": "text"
      },
      "source": [
        
        "\n",
        "## Question 3\n",
        "\n",
        "-  Build a DNN model for Bike Sharing Dataset to check count of total rental bikes including both casual and registered - Regression problem\n",
        "-  Understand basic DNN model building process using Keras\n",
        "-  Analyze model performance and capacity vs generalization tradeoff\n",
        "-  Modify models to reduce overfitting and improve performance\n",
        "-  Analyze results and explore improvements to model"
      ]
    },
    {
      "cell_type": "markdown",
      "metadata": {
        "id": "YfFaesA5c_Xp",
        "colab_type": "text"
      },
      "source": [
        "## Step 1: Import Libraries"
      ]
    },
    {
      "cell_type": "code",
      "metadata": {
        "id": "23Re0W0cnYlW",
        "colab_type": "code",
        "outputId": "5c26d538-c8a2-44f9-9937-30ca6507a9b4",
        "colab": {
          "base_uri": "https://localhost:8080/",
          "height": 34
        }
      },
      "source": [
        "#Importing all necessory librariies\n",
        "\n",
        "from numpy.random import seed\n",
        "seed(2)\n",
        "from tensorflow import set_random_seed\n",
        "set_random_seed(2)\n",
        "import tensorflow as tf\n",
        "from tensorflow import keras\n",
        "from IPython import display\n",
        "from matplotlib import cm\n",
        "from matplotlib import gridspec\n",
        "from matplotlib import pyplot as plt\n",
        "import numpy as np\n",
        "import pandas as pd\n",
        "from tensorflow.python.data import Dataset\n",
        "from sklearn import preprocessing\n",
        "from sklearn.preprocessing import StandardScaler\n",
        "print(tf.__version__)\n",
        "import os"
      ],
      "execution_count": 0,
      "outputs": [
        {
          "output_type": "stream",
          "text": [
            "1.14.0\n"
          ],
          "name": "stdout"
        }
      ]
    },
    {
      "cell_type": "markdown",
      "metadata": {
        "id": "ipH8SkDedEFI",
        "colab_type": "text"
      },
      "source": [
        "\n",
        "\n",
        "##Step 2: Import Data"
      ]
    },
    {
      "cell_type": "code",
      "metadata": {
        "id": "xOvFg1ARnbR7",
        "colab_type": "code",
        "outputId": "b5a716a8-8b82-4343-8553-5fa3d26b804c",
        "colab": {
          "base_uri": "https://localhost:8080/",
          "height": 464
        }
      },
      "source": [
        "#import data from source\n",
        "\n",
        "tf.logging.set_verbosity(tf.logging.ERROR)\n",
        "pd.options.display.max_rows = 10\n",
        "pd.options.display.float_format = '{:.1f}'.format\n",
        "\n",
        "\n",
        "concrete_dataframe = pd.read_csv(\"day.csv\", sep=\",\")\n",
        "\n",
        "for col in concrete_dataframe.columns: \n",
        "   print(col)\n",
        "  \n",
        "concrete_dataframe.head()"
      ],
      "execution_count": 0,
      "outputs": [
        {
          "output_type": "stream",
          "text": [
            "instant\n",
            "dteday\n",
            "season\n",
            "yr\n",
            "mnth\n",
            "holiday\n",
            "weekday\n",
            "workingday\n",
            "weathersit\n",
            "temp\n",
            "atemp\n",
            "hum\n",
            "windspeed\n",
            "casual\n",
            "registered\n",
            "cnt\n"
          ],
          "name": "stdout"
        },
        {
          "output_type": "execute_result",
          "data": {
            "text/html": [
              "<div>\n",
              "<style scoped>\n",
              "    .dataframe tbody tr th:only-of-type {\n",
              "        vertical-align: middle;\n",
              "    }\n",
              "\n",
              "    .dataframe tbody tr th {\n",
              "        vertical-align: top;\n",
              "    }\n",
              "\n",
              "    .dataframe thead th {\n",
              "        text-align: right;\n",
              "    }\n",
              "</style>\n",
              "<table border=\"1\" class=\"dataframe\">\n",
              "  <thead>\n",
              "    <tr style=\"text-align: right;\">\n",
              "      <th></th>\n",
              "      <th>instant</th>\n",
              "      <th>dteday</th>\n",
              "      <th>season</th>\n",
              "      <th>yr</th>\n",
              "      <th>mnth</th>\n",
              "      <th>holiday</th>\n",
              "      <th>weekday</th>\n",
              "      <th>workingday</th>\n",
              "      <th>weathersit</th>\n",
              "      <th>temp</th>\n",
              "      <th>atemp</th>\n",
              "      <th>hum</th>\n",
              "      <th>windspeed</th>\n",
              "      <th>casual</th>\n",
              "      <th>registered</th>\n",
              "      <th>cnt</th>\n",
              "    </tr>\n",
              "  </thead>\n",
              "  <tbody>\n",
              "    <tr>\n",
              "      <th>0</th>\n",
              "      <td>1</td>\n",
              "      <td>2011-01-01</td>\n",
              "      <td>1</td>\n",
              "      <td>0</td>\n",
              "      <td>1</td>\n",
              "      <td>0</td>\n",
              "      <td>6</td>\n",
              "      <td>0</td>\n",
              "      <td>2</td>\n",
              "      <td>0.3</td>\n",
              "      <td>0.4</td>\n",
              "      <td>0.8</td>\n",
              "      <td>0.2</td>\n",
              "      <td>331</td>\n",
              "      <td>654</td>\n",
              "      <td>985</td>\n",
              "    </tr>\n",
              "    <tr>\n",
              "      <th>1</th>\n",
              "      <td>2</td>\n",
              "      <td>2011-01-02</td>\n",
              "      <td>1</td>\n",
              "      <td>0</td>\n",
              "      <td>1</td>\n",
              "      <td>0</td>\n",
              "      <td>0</td>\n",
              "      <td>0</td>\n",
              "      <td>2</td>\n",
              "      <td>0.4</td>\n",
              "      <td>0.4</td>\n",
              "      <td>0.7</td>\n",
              "      <td>0.2</td>\n",
              "      <td>131</td>\n",
              "      <td>670</td>\n",
              "      <td>801</td>\n",
              "    </tr>\n",
              "    <tr>\n",
              "      <th>2</th>\n",
              "      <td>3</td>\n",
              "      <td>2011-01-03</td>\n",
              "      <td>1</td>\n",
              "      <td>0</td>\n",
              "      <td>1</td>\n",
              "      <td>0</td>\n",
              "      <td>1</td>\n",
              "      <td>1</td>\n",
              "      <td>1</td>\n",
              "      <td>0.2</td>\n",
              "      <td>0.2</td>\n",
              "      <td>0.4</td>\n",
              "      <td>0.2</td>\n",
              "      <td>120</td>\n",
              "      <td>1229</td>\n",
              "      <td>1349</td>\n",
              "    </tr>\n",
              "    <tr>\n",
              "      <th>3</th>\n",
              "      <td>4</td>\n",
              "      <td>2011-01-04</td>\n",
              "      <td>1</td>\n",
              "      <td>0</td>\n",
              "      <td>1</td>\n",
              "      <td>0</td>\n",
              "      <td>2</td>\n",
              "      <td>1</td>\n",
              "      <td>1</td>\n",
              "      <td>0.2</td>\n",
              "      <td>0.2</td>\n",
              "      <td>0.6</td>\n",
              "      <td>0.2</td>\n",
              "      <td>108</td>\n",
              "      <td>1454</td>\n",
              "      <td>1562</td>\n",
              "    </tr>\n",
              "    <tr>\n",
              "      <th>4</th>\n",
              "      <td>5</td>\n",
              "      <td>2011-01-05</td>\n",
              "      <td>1</td>\n",
              "      <td>0</td>\n",
              "      <td>1</td>\n",
              "      <td>0</td>\n",
              "      <td>3</td>\n",
              "      <td>1</td>\n",
              "      <td>1</td>\n",
              "      <td>0.2</td>\n",
              "      <td>0.2</td>\n",
              "      <td>0.4</td>\n",
              "      <td>0.2</td>\n",
              "      <td>82</td>\n",
              "      <td>1518</td>\n",
              "      <td>1600</td>\n",
              "    </tr>\n",
              "  </tbody>\n",
              "</table>\n",
              "</div>"
            ],
            "text/plain": [
              "   instant      dteday  season  yr  ...  windspeed  casual  registered   cnt\n",
              "0        1  2011-01-01       1   0  ...        0.2     331         654   985\n",
              "1        2  2011-01-02       1   0  ...        0.2     131         670   801\n",
              "2        3  2011-01-03       1   0  ...        0.2     120        1229  1349\n",
              "3        4  2011-01-04       1   0  ...        0.2     108        1454  1562\n",
              "4        5  2011-01-05       1   0  ...        0.2      82        1518  1600\n",
              "\n",
              "[5 rows x 16 columns]"
            ]
          },
          "metadata": {
            "tags": []
          },
          "execution_count": 13
        }
      ]
    },
    {
      "cell_type": "markdown",
      "metadata": {
        "id": "I0S-embsdW2l",
        "colab_type": "text"
      },
      "source": [
        "##Step 3: Preprocess"
      ]
    },
    {
      "cell_type": "code",
      "metadata": {
        "id": "RZFlmRcwpsHG",
        "colab_type": "code",
        "outputId": "c7624673-8852-4c38-cfa9-8ad0f139a63c",
        "colab": {
          "base_uri": "https://localhost:8080/",
          "height": 218
        }
      },
      "source": [
        "\n",
        "#There are some categorical variables available in the dataset, therefore we will have to divide dataframe into two different dataframe to perform normalisation operation\n",
        "\n",
        "#Diving categorical columns and adding in dataframe called concrete_categorical \n",
        "\n",
        "categorical_col = ['season','yr','mnth','holiday','weekday','workingday','weathersit']\n",
        "concrete_categorical = concrete_dataframe[categorical_col]\n",
        "\n",
        "#Diving continuous columns and adding in dataframe called concrete_continuous \n",
        "\n",
        "continuous_col = ['temp','atemp','hum','windspeed']\n",
        "concrete_continuous = concrete_dataframe[continuous_col]\n",
        "\n",
        "#Diving target variable and adding in dataframe called concrete_target\n",
        "\n",
        "concrete_target = concrete_dataframe[\"cnt\"]\n",
        "print(concrete_target)\n",
        "\n",
        "#converting categorical variables into dummies using one hot enconding \n",
        "\n",
        "oh_concrete_categorical = pd.get_dummies(concrete_categorical,columns=categorical_col, drop_first=False)"
      ],
      "execution_count": 0,
      "outputs": [
        {
          "output_type": "stream",
          "text": [
            "0       985\n",
            "1       801\n",
            "2      1349\n",
            "3      1562\n",
            "4      1600\n",
            "       ... \n",
            "726    2114\n",
            "727    3095\n",
            "728    1341\n",
            "729    1796\n",
            "730    2729\n",
            "Name: cnt, Length: 731, dtype: int64\n"
          ],
          "name": "stdout"
        }
      ]
    },
    {
      "cell_type": "code",
      "metadata": {
        "id": "TcnF7x5dqM4t",
        "colab_type": "code",
        "colab": {}
      },
      "source": [
        "# Choose the first 600 examples for training.\n",
        "\n",
        "training_continuous = concrete_continuous.head(600)\n",
        "training_categorical = oh_concrete_categorical.head(600)\n",
        "training_target = concrete_target.head(600)\n",
        "\n",
        "# Choose the last 131 examples for validation.\n",
        "\n",
        "validation_continuous = concrete_continuous.tail(131)\n",
        "validation_categorical = oh_concrete_categorical.tail(131)\n",
        "validation_target = concrete_target.tail(131)"
      ],
      "execution_count": 0,
      "outputs": []
    },
    {
      "cell_type": "code",
      "metadata": {
        "id": "9H1a_Jz3rcJo",
        "colab_type": "code",
        "outputId": "012a58ae-77fb-4c4e-ed56-a8b81e7cd212",
        "colab": {
          "base_uri": "https://localhost:8080/",
          "height": 921
        }
      },
      "source": [
        "#Standardize features by removing the mean and scaling to unit variance for training and validation dataframes (for continuous variables only)\n",
        "\n",
        "scaler = StandardScaler().fit(training_continuous.values)\n",
        "scaledf = scaler.transform(training_continuous.values)\n",
        "scaled_training_continuous = pd.DataFrame(scaledf, index=training_continuous.index, columns=training_continuous.columns)\n",
        "\n",
        "vscaled = scaler.transform(validation_continuous.values)\n",
        "scaled_validation_continuous = pd.DataFrame(vscaled, index=validation_continuous.index, columns=validation_continuous.columns)\n",
        "\n",
        "# Double-check that we've done the right thing.\n",
        "print(\"Training examples summary:\")\n",
        "display.display(scaled_training_continuous.describe())\n",
        "print(\"Validation examples summary:\")\n",
        "display.display(scaled_validation_continuous.describe())\n",
        "\n",
        "print(\"Training targets summary:\")\n",
        "display.display(training_target.describe())\n",
        "print(\"Validation targets summary:\")\n",
        "display.display(validation_target.describe())\n",
        "\n"
      ],
      "execution_count": 0,
      "outputs": [
        {
          "output_type": "stream",
          "text": [
            "Training examples summary:\n"
          ],
          "name": "stdout"
        },
        {
          "output_type": "display_data",
          "data": {
            "text/html": [
              "<div>\n",
              "<style scoped>\n",
              "    .dataframe tbody tr th:only-of-type {\n",
              "        vertical-align: middle;\n",
              "    }\n",
              "\n",
              "    .dataframe tbody tr th {\n",
              "        vertical-align: top;\n",
              "    }\n",
              "\n",
              "    .dataframe thead th {\n",
              "        text-align: right;\n",
              "    }\n",
              "</style>\n",
              "<table border=\"1\" class=\"dataframe\">\n",
              "  <thead>\n",
              "    <tr style=\"text-align: right;\">\n",
              "      <th></th>\n",
              "      <th>temp</th>\n",
              "      <th>atemp</th>\n",
              "      <th>hum</th>\n",
              "      <th>windspeed</th>\n",
              "    </tr>\n",
              "  </thead>\n",
              "  <tbody>\n",
              "    <tr>\n",
              "      <th>count</th>\n",
              "      <td>600.0</td>\n",
              "      <td>600.0</td>\n",
              "      <td>600.0</td>\n",
              "      <td>600.0</td>\n",
              "    </tr>\n",
              "    <tr>\n",
              "      <th>mean</th>\n",
              "      <td>0.0</td>\n",
              "      <td>-0.0</td>\n",
              "      <td>-0.0</td>\n",
              "      <td>-0.0</td>\n",
              "    </tr>\n",
              "    <tr>\n",
              "      <th>std</th>\n",
              "      <td>1.0</td>\n",
              "      <td>1.0</td>\n",
              "      <td>1.0</td>\n",
              "      <td>1.0</td>\n",
              "    </tr>\n",
              "    <tr>\n",
              "      <th>min</th>\n",
              "      <td>-2.4</td>\n",
              "      <td>-2.4</td>\n",
              "      <td>-4.3</td>\n",
              "      <td>-2.2</td>\n",
              "    </tr>\n",
              "    <tr>\n",
              "      <th>25%</th>\n",
              "      <td>-0.9</td>\n",
              "      <td>-0.8</td>\n",
              "      <td>-0.8</td>\n",
              "      <td>-0.7</td>\n",
              "    </tr>\n",
              "    <tr>\n",
              "      <th>50%</th>\n",
              "      <td>0.0</td>\n",
              "      <td>0.1</td>\n",
              "      <td>-0.0</td>\n",
              "      <td>-0.1</td>\n",
              "    </tr>\n",
              "    <tr>\n",
              "      <th>75%</th>\n",
              "      <td>0.9</td>\n",
              "      <td>0.9</td>\n",
              "      <td>0.7</td>\n",
              "      <td>0.5</td>\n",
              "    </tr>\n",
              "    <tr>\n",
              "      <th>max</th>\n",
              "      <td>1.9</td>\n",
              "      <td>2.1</td>\n",
              "      <td>2.4</td>\n",
              "      <td>4.1</td>\n",
              "    </tr>\n",
              "  </tbody>\n",
              "</table>\n",
              "</div>"
            ],
            "text/plain": [
              "       temp  atemp   hum  windspeed\n",
              "count 600.0  600.0 600.0      600.0\n",
              "mean    0.0   -0.0  -0.0       -0.0\n",
              "std     1.0    1.0   1.0        1.0\n",
              "min    -2.4   -2.4  -4.3       -2.2\n",
              "25%    -0.9   -0.8  -0.8       -0.7\n",
              "50%     0.0    0.1  -0.0       -0.1\n",
              "75%     0.9    0.9   0.7        0.5\n",
              "max     1.9    2.1   2.4        4.1"
            ]
          },
          "metadata": {
            "tags": []
          }
        },
        {
          "output_type": "stream",
          "text": [
            "Validation examples summary:\n"
          ],
          "name": "stdout"
        },
        {
          "output_type": "display_data",
          "data": {
            "text/html": [
              "<div>\n",
              "<style scoped>\n",
              "    .dataframe tbody tr th:only-of-type {\n",
              "        vertical-align: middle;\n",
              "    }\n",
              "\n",
              "    .dataframe tbody tr th {\n",
              "        vertical-align: top;\n",
              "    }\n",
              "\n",
              "    .dataframe thead th {\n",
              "        text-align: right;\n",
              "    }\n",
              "</style>\n",
              "<table border=\"1\" class=\"dataframe\">\n",
              "  <thead>\n",
              "    <tr style=\"text-align: right;\">\n",
              "      <th></th>\n",
              "      <th>temp</th>\n",
              "      <th>atemp</th>\n",
              "      <th>hum</th>\n",
              "      <th>windspeed</th>\n",
              "    </tr>\n",
              "  </thead>\n",
              "  <tbody>\n",
              "    <tr>\n",
              "      <th>count</th>\n",
              "      <td>131.0</td>\n",
              "      <td>131.0</td>\n",
              "      <td>131.0</td>\n",
              "      <td>131.0</td>\n",
              "    </tr>\n",
              "    <tr>\n",
              "      <th>mean</th>\n",
              "      <td>-0.2</td>\n",
              "      <td>-0.2</td>\n",
              "      <td>0.2</td>\n",
              "      <td>-0.2</td>\n",
              "    </tr>\n",
              "    <tr>\n",
              "      <th>std</th>\n",
              "      <td>0.8</td>\n",
              "      <td>0.8</td>\n",
              "      <td>0.8</td>\n",
              "      <td>1.1</td>\n",
              "    </tr>\n",
              "    <tr>\n",
              "      <th>min</th>\n",
              "      <td>-1.5</td>\n",
              "      <td>-1.5</td>\n",
              "      <td>-2.0</td>\n",
              "      <td>-1.9</td>\n",
              "    </tr>\n",
              "    <tr>\n",
              "      <th>25%</th>\n",
              "      <td>-0.9</td>\n",
              "      <td>-0.9</td>\n",
              "      <td>-0.5</td>\n",
              "      <td>-1.0</td>\n",
              "    </tr>\n",
              "    <tr>\n",
              "      <th>50%</th>\n",
              "      <td>-0.3</td>\n",
              "      <td>-0.3</td>\n",
              "      <td>0.1</td>\n",
              "      <td>-0.4</td>\n",
              "    </tr>\n",
              "    <tr>\n",
              "      <th>75%</th>\n",
              "      <td>0.4</td>\n",
              "      <td>0.5</td>\n",
              "      <td>0.8</td>\n",
              "      <td>0.5</td>\n",
              "    </tr>\n",
              "    <tr>\n",
              "      <th>max</th>\n",
              "      <td>1.4</td>\n",
              "      <td>1.4</td>\n",
              "      <td>2.1</td>\n",
              "      <td>2.8</td>\n",
              "    </tr>\n",
              "  </tbody>\n",
              "</table>\n",
              "</div>"
            ],
            "text/plain": [
              "       temp  atemp   hum  windspeed\n",
              "count 131.0  131.0 131.0      131.0\n",
              "mean   -0.2   -0.2   0.2       -0.2\n",
              "std     0.8    0.8   0.8        1.1\n",
              "min    -1.5   -1.5  -2.0       -1.9\n",
              "25%    -0.9   -0.9  -0.5       -1.0\n",
              "50%    -0.3   -0.3   0.1       -0.4\n",
              "75%     0.4    0.5   0.8        0.5\n",
              "max     1.4    1.4   2.1        2.8"
            ]
          },
          "metadata": {
            "tags": []
          }
        },
        {
          "output_type": "stream",
          "text": [
            "Training targets summary:\n"
          ],
          "name": "stdout"
        },
        {
          "output_type": "display_data",
          "data": {
            "text/plain": [
              "count    600.0\n",
              "mean    4225.9\n",
              "std     1822.7\n",
              "min      431.0\n",
              "25%     2908.5\n",
              "50%     4298.0\n",
              "75%     5367.0\n",
              "max     8362.0\n",
              "Name: cnt, dtype: float64"
            ]
          },
          "metadata": {
            "tags": []
          }
        },
        {
          "output_type": "stream",
          "text": [
            "Validation targets summary:\n"
          ],
          "name": "stdout"
        },
        {
          "output_type": "display_data",
          "data": {
            "text/plain": [
              "count    131.0\n",
              "mean    5779.9\n",
              "std     1941.1\n",
              "min       22.0\n",
              "25%     5097.0\n",
              "50%     5875.0\n",
              "75%     7440.0\n",
              "max     8714.0\n",
              "Name: cnt, dtype: float64"
            ]
          },
          "metadata": {
            "tags": []
          }
        }
      ]
    },
    {
      "cell_type": "code",
      "metadata": {
        "id": "og4uuVS3xJau",
        "colab_type": "code",
        "colab": {}
      },
      "source": [
        "#Combining dataframe for categorical and continuous variables \n",
        "\n",
        "training_combined = pd.concat([scaled_training_continuous, training_categorical],axis=1)\n",
        "validation_combined =  pd.concat([scaled_validation_continuous, validation_categorical], axis=1)"
      ],
      "execution_count": 0,
      "outputs": []
    },
    {
      "cell_type": "markdown",
      "metadata": {
        "id": "Ikdc8Jj4eO15",
        "colab_type": "text"
      },
      "source": [
        "##Step 4: 1. Baseline model for Bike sharing dataset"
      ]
    },
    {
      "cell_type": "code",
      "metadata": {
        "id": "vHSsih4WePGD",
        "colab_type": "code",
        "outputId": "80204279-8ad2-4323-a343-e045ff820b61",
        "colab": {
          "base_uri": "https://localhost:8080/",
          "height": 34
        }
      },
      "source": [
        "#Checking error of the baseline model \n",
        "\n",
        "baseline_error = validation_target.mad()\n",
        "print(\"Mean absolute deviation for Baseline Model: \",baseline_error)"
      ],
      "execution_count": 0,
      "outputs": [
        {
          "output_type": "stream",
          "text": [
            "Mean absolute deviation for Baseline Model:  1504.6538080531475\n"
          ],
          "name": "stdout"
        }
      ]
    },
    {
      "cell_type": "markdown",
      "metadata": {
        "id": "Oa4VLFPTgoD0",
        "colab_type": "text"
      },
      "source": [
        "##Step 4: 2. Build First Model for Bike sharing dataset"
      ]
    },
    {
      "cell_type": "code",
      "metadata": {
        "id": "uUiqy8i3sowb",
        "colab_type": "code",
        "colab": {}
      },
      "source": [
        "\n",
        "#Building first model for regression\n",
        "\n",
        "first_model = keras.Sequential([keras.layers.Dense(32,activation=tf.nn.relu,\n",
        "                       input_shape=(training_combined.shape[1],)),\n",
        "                       keras.layers.Dense(32,activation=tf.nn.relu,),\n",
        "                       keras.layers.Dense(1)  # for regression using no activation function for last layer\n",
        "                        ])\n",
        "\n",
        "optimizer = tf.train.AdamOptimizer(0.001)\n",
        "\n",
        "first_model.compile(loss='mse', # mean squared error\n",
        "                optimizer=optimizer,\n",
        "                metrics=['mae'])  #mean absolute error\n",
        "\n",
        "# no. of neurons in hidden layer=input+output/2\n",
        "# or 2/3 Input +output\n",
        "# or 2 times input\n",
        "# relu has to do with optimisation, easier to compute gradients\n",
        "\n"
      ],
      "execution_count": 0,
      "outputs": []
    },
    {
      "cell_type": "markdown",
      "metadata": {
        "id": "Y73n6HU4hBMy",
        "colab_type": "text"
      },
      "source": [
        "##Step 4: 3. Build L1 Model for Bike sharing dataset"
      ]
    },
    {
      "cell_type": "code",
      "metadata": {
        "id": "AluijWR7g9mV",
        "colab_type": "code",
        "colab": {}
      },
      "source": [
        "\n",
        "\n",
        "#Building model l1 for regression\n",
        "\n",
        "l1_model = keras.Sequential([\n",
        "    keras.layers.Dense(60, activation=tf.nn.relu,\n",
        "                       kernel_regularizer=keras.regularizers.l2(0.1),\n",
        "                       input_shape=(training_combined.shape[1],)),\n",
        "    keras.layers.Dropout(0.25),\n",
        "    keras.layers.Dense(60, activation=tf.nn.relu,\n",
        "                       kernel_regularizer=keras.regularizers.l2(0.1),\n",
        "                       input_shape=(training_combined.shape[1],)),\n",
        "    keras.layers.Dropout(0.25),\n",
        "    keras.layers.Dense(60, activation=tf.nn.relu,\n",
        "                       kernel_regularizer=keras.regularizers.l2(0.1),\n",
        "                       input_shape=(training_combined.shape[1],)),\n",
        "    keras.layers.Dropout(0.25),\n",
        "    keras.layers.Dense(32,activation=tf.nn.relu,\n",
        "                       kernel_regularizer=keras.regularizers.l2(0.1),\n",
        "                      ),\n",
        "    keras.layers.Dense(16,activation=tf.nn.relu,\n",
        "                       kernel_regularizer=keras.regularizers.l2(0.1),\n",
        "                      ),\n",
        "    keras.layers.Dense(1)\n",
        "  ])\n",
        "\n",
        "l1_model.compile(loss='mse', # mean squared error\n",
        "                optimizer=optimizer,\n",
        "                metrics=['mae']) "
      ],
      "execution_count": 0,
      "outputs": []
    },
    {
      "cell_type": "markdown",
      "metadata": {
        "id": "Bv3ivfPFhN2I",
        "colab_type": "text"
      },
      "source": [
        "##Step 5: Fit Model (First model, L1 model )\n"
      ]
    },
    {
      "cell_type": "code",
      "metadata": {
        "id": "yp8hVc1KiNsZ",
        "colab_type": "code",
        "outputId": "29810c7e-4dc4-4d36-e3f0-8bc167cbed80",
        "colab": {
          "base_uri": "https://localhost:8080/",
          "height": 67
        }
      },
      "source": [
        "class PrintDot(keras.callbacks.Callback): # prints dot at the end of every epoch\n",
        "  def on_epoch_end(self, epoch, logs):\n",
        "    if epoch % 100 == 0: print('')\n",
        "    print('.', end='')\n",
        "\n",
        "EPOCHS = 100  # number of times the model runs with different orders of 83 records\n",
        "tf.set_random_seed(1)\n",
        "\n",
        "# Store training stats\n",
        "f1_history = first_model.fit(training_combined, training_target, epochs=EPOCHS,\n",
        "                    validation_data= (validation_combined, validation_target), verbose=0,\n",
        "                    callbacks=[PrintDot()])\n",
        "\n",
        "\n",
        "l1_history = l1_model.fit(training_combined, training_target, epochs=EPOCHS,\n",
        "                    validation_data= (validation_combined, validation_target), verbose=0,\n",
        "                    callbacks=[PrintDot()])"
      ],
      "execution_count": 0,
      "outputs": [
        {
          "output_type": "stream",
          "text": [
            "\n",
            "....................................................................................................\n",
            "...................................................................................................."
          ],
          "name": "stdout"
        }
      ]
    },
    {
      "cell_type": "code",
      "metadata": {
        "id": "GJPcWtx-WWqs",
        "colab_type": "code",
        "outputId": "0fce77c3-50c1-4e1c-acd8-fe6e6e8df8a3",
        "colab": {
          "base_uri": "https://localhost:8080/",
          "height": 67
        }
      },
      "source": [
        "#printing keys for first model \n",
        "\n",
        "print(f1_history.history.keys())\n",
        "\n",
        "#finding mean of both models (mean absolute error)\n",
        "\n",
        "print(min(f1_history.history['val_mean_absolute_error']))\n",
        "print(min(l1_history.history['val_mean_absolute_error']))"
      ],
      "execution_count": 0,
      "outputs": [
        {
          "output_type": "stream",
          "text": [
            "dict_keys(['loss', 'mean_absolute_error', 'val_loss', 'val_mean_absolute_error'])\n",
            "1219.7787\n",
            "735.8213\n"
          ],
          "name": "stdout"
        }
      ]
    },
    {
      "cell_type": "markdown",
      "metadata": {
        "id": "1iVM8hp8tky0",
        "colab_type": "text"
      },
      "source": [
        "## Step 6: Plot Results\n",
        "### 1. Graph for mean absolute error"
      ]
    },
    {
      "cell_type": "code",
      "metadata": {
        "id": "kkRP1ioyVdVR",
        "colab_type": "code",
        "outputId": "3ade2b90-a18b-4172-f3ed-9c1ce862e3b0",
        "colab": {
          "base_uri": "https://localhost:8080/",
          "height": 610
        }
      },
      "source": [
        "import matplotlib.pyplot as plt\n",
        "\n",
        "\n",
        "def plot_history(histories, key='mean_absolute_error'):\n",
        "  plt.figure(figsize=(16,10))\n",
        "  for name, history in histories:\n",
        "    val = plt.plot(history.epoch, history.history['val_'+key],\n",
        "                   '--', label=name.title()+' Val')\n",
        "    plt.plot(history.epoch, history.history[key], color=val[0].get_color(),\n",
        "             label=name.title()+' Train')\n",
        "\n",
        "  plt.xlabel('Epochs')\n",
        "  plt.ylabel(key.replace('_',' ').title())\n",
        "  plt.legend()\n",
        "\n",
        "  plt.xlim([0,max(history.epoch)])\n",
        "  plt.ylim([0,10000])\n",
        "\n",
        "# Plot history Multiple\n",
        "plot_history([('First model', f1_history),\n",
        "              ('L1', l1_history)])"
      ],
      "execution_count": 0,
      "outputs": [
        {
          "output_type": "display_data",
          "data": {
            "image/png": "[encoded data removed]",
            "text/plain": [
              "<Figure size 1152x720 with 1 Axes>"
            ]
          },
          "metadata": {
            "tags": []
          }
        }
      ]
    },
    {
      "cell_type": "markdown",
      "metadata": {
        "id": "CrlFeyKquddi",
        "colab_type": "text"
      },
      "source": [
        "###2. Plotting graph for weights"
      ]
    },
    {
      "cell_type": "code",
      "metadata": {
        "id": "6-ibKplAuWwk",
        "colab_type": "code",
        "outputId": "e039ae9f-2d44-4f52-a248-ffa525a47db6",
        "colab": {
          "base_uri": "https://localhost:8080/",
          "height": 286
        }
      },
      "source": [
        "# Plot Weights for first model\n",
        "\n",
        "nfw = first_model.get_weights()[0][0]\n",
        "y_pos = np.arange(len(nfw))\n",
        " \n",
        "plt.bar(y_pos, nfw, align='center', alpha=0.5)"
      ],
      "execution_count": 0,
      "outputs": [
        {
          "output_type": "execute_result",
          "data": {
            "text/plain": [
              "<BarContainer object of 32 artists>"
            ]
          },
          "metadata": {
            "tags": []
          },
          "execution_count": 47
        },
        {
          "output_type": "display_data",
          "data": {
            "image/png": "[encoded data removed]",
            "text/plain": [
              "<Figure size 432x288 with 1 Axes>"
            ]
          },
          "metadata": {
            "tags": []
          }
        }
      ]
    },
    {
      "cell_type": "markdown",
      "metadata": {
        "id": "BhTdrjU2uk9n",
        "colab_type": "text"
      },
      "source": [
        "##Step 7: Predictions"
      ]
    },
    {
      "cell_type": "code",
      "metadata": {
        "id": "1wn6lBFPupvw",
        "colab_type": "code",
        "outputId": "42b6f466-66a8-4356-ec09-c85301dc798e",
        "colab": {
          "base_uri": "https://localhost:8080/",
          "height": 1000
        }
      },
      "source": [
        "#Printing prediction values for target variable using first model \n",
        "\n",
        "valpreds = first_model.predict_on_batch(validation_combined)\n",
        "print(valpreds)"
      ],
      "execution_count": 0,
      "outputs": [
        {
          "output_type": "stream",
          "text": [
            "[[6512.362 ]\n",
            " [6487.901 ]\n",
            " [5444.452 ]\n",
            " [4903.4844]\n",
            " [6134.773 ]\n",
            " [6340.5146]\n",
            " [6505.498 ]\n",
            " [6718.7246]\n",
            " [6710.9883]\n",
            " [6601.296 ]\n",
            " [5850.616 ]\n",
            " [5572.398 ]\n",
            " [5950.6045]\n",
            " [6203.4863]\n",
            " [5793.6113]\n",
            " [6112.503 ]\n",
            " [5105.6343]\n",
            " [5619.216 ]\n",
            " [5582.2246]\n",
            " [6156.7373]\n",
            " [5951.6494]\n",
            " [6118.2646]\n",
            " [6102.2515]\n",
            " [5863.6016]\n",
            " [5909.9795]\n",
            " [5201.7446]\n",
            " [4400.115 ]\n",
            " [5525.541 ]\n",
            " [5704.502 ]\n",
            " [5769.1694]\n",
            " [5606.8223]\n",
            " [5741.679 ]\n",
            " [5978.549 ]\n",
            " [5779.783 ]\n",
            " [5968.5024]\n",
            " [6161.788 ]\n",
            " [5937.9834]\n",
            " [5837.1104]\n",
            " [5783.6865]\n",
            " [5864.847 ]\n",
            " [4900.367 ]\n",
            " [6307.7236]\n",
            " [6372.9023]\n",
            " [6652.3784]\n",
            " [5685.4604]\n",
            " [4875.2783]\n",
            " [4218.049 ]\n",
            " [4902.8486]\n",
            " [5743.409 ]\n",
            " [5753.9097]\n",
            " [5443.757 ]\n",
            " [5587.427 ]\n",
            " [5309.4453]\n",
            " [5209.826 ]\n",
            " [5712.6714]\n",
            " [5583.112 ]\n",
            " [5267.811 ]\n",
            " [5661.0625]\n",
            " [6019.9546]\n",
            " [5675.217 ]\n",
            " [6092.8945]\n",
            " [6263.3184]\n",
            " [6513.7534]\n",
            " [5634.0356]\n",
            " [5591.669 ]\n",
            " [5336.8833]\n",
            " [4321.0913]\n",
            " [3172.965 ]\n",
            " [3925.398 ]\n",
            " [4662.5645]\n",
            " [4803.3936]\n",
            " [4711.5728]\n",
            " [4417.3076]\n",
            " [4607.423 ]\n",
            " [4508.772 ]\n",
            " [4453.615 ]\n",
            " [3811.278 ]\n",
            " [4757.092 ]\n",
            " [4868.54  ]\n",
            " [5367.9434]\n",
            " [5059.3877]\n",
            " [4766.171 ]\n",
            " [3751.455 ]\n",
            " [4370.8486]\n",
            " [4468.624 ]\n",
            " [4986.1494]\n",
            " [4772.2363]\n",
            " [4152.8203]\n",
            " [4408.85  ]\n",
            " [4880.4014]\n",
            " [5010.6504]\n",
            " [4845.373 ]\n",
            " [5131.9717]\n",
            " [4019.6528]\n",
            " [4405.6553]\n",
            " [5165.1294]\n",
            " [3571.4922]\n",
            " [4479.5625]\n",
            " [4748.572 ]\n",
            " [4902.533 ]\n",
            " [4193.3667]\n",
            " [3989.7292]\n",
            " [5153.413 ]\n",
            " [5086.9897]\n",
            " [4832.338 ]\n",
            " [4330.6543]\n",
            " [4133.0283]\n",
            " [4271.5005]\n",
            " [3887.044 ]\n",
            " [4116.4165]\n",
            " [4016.6907]\n",
            " [4285.285 ]\n",
            " [4606.879 ]\n",
            " [4403.523 ]\n",
            " [4713.398 ]\n",
            " [4113.897 ]\n",
            " [4256.552 ]\n",
            " [4705.128 ]\n",
            " [4452.2354]\n",
            " [4372.918 ]\n",
            " [3084.0923]\n",
            " [3033.244 ]\n",
            " [3644.7573]\n",
            " [3089.541 ]\n",
            " [2849.9272]\n",
            " [1330.4626]\n",
            " [2486.5916]\n",
            " [3432.2637]\n",
            " [3124.0288]\n",
            " [2890.7505]\n",
            " [3138.2932]]\n"
          ],
          "name": "stdout"
        }
      ]
    },
    {
      "cell_type": "code",
      "metadata": {
        "id": "hzgg4pA1utVh",
        "colab_type": "code",
        "outputId": "e8a21148-d165-48f4-ac31-943a8eac3f68",
        "colab": {
          "base_uri": "https://localhost:8080/",
          "height": 218
        }
      },
      "source": [
        "#with pd.option_context('display.max_rows', None, 'display.max_columns', None):\n",
        "  print(validation_target)"
      ],
      "execution_count": 0,
      "outputs": [
        {
          "output_type": "stream",
          "text": [
            "600    7765\n",
            "601    7582\n",
            "602    6053\n",
            "603    5255\n",
            "604    6917\n",
            "       ... \n",
            "726    2114\n",
            "727    3095\n",
            "728    1341\n",
            "729    1796\n",
            "730    2729\n",
            "Name: cnt, Length: 131, dtype: int64\n"
          ],
          "name": "stdout"
        }
      ]
    },
    {
      "cell_type": "markdown",
      "metadata": {
        "id": "akkwYnyFuxT3",
        "colab_type": "text"
      },
      "source": [
        "## Analysis of all models (Model Comparison) - Question 3\n",
        "\n",
        "-  From above models, we can see that, we are getting mean absolute error of 1504.6538080531475 with baseline model. But after building and fitting all DNN models we are getting less error as compared to baseline model for all models (first_model, l1_model).\n",
        "\n",
        "- Best model is : L1 model with minimum mean absolute error of 735.8213, and from the graph we can see that, error is error between validation and training data is less for l1_model.\n",
        "\n",
        "- Hence, when we compare Baseline model with DNN models, we can conclude that we are getting better predictions and accuracy with DNN model. "
      ]
    }
  ]
}